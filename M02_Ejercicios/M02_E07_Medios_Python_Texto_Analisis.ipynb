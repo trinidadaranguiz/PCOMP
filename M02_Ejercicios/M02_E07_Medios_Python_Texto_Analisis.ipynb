{
 "cells": [
  {
   "cell_type": "markdown",
   "metadata": {},
   "source": [
    "# M02_E07_Medios_Python_Texto_Analisis\n",
    "\n",
    "### PENSAMIENTO COMPUTACIONAL 2024-B\n",
    "\n",
    "* Prof. Ricardo Vega M. - Escuela de Diseño Universidad Católica de Chile - 2024.  \n",
    "\n",
    "* Renombrar archivo así: M0X_E0X_apellido_nombre_rut, por ejemplo:\n",
    "M0X_E0X_vega_ricardo_102349285  \n",
    "\n",
    "* Renombrar el titulo asi: M0X_E0X_PRINT_SUMAR_apellido_nombre_rut, por ejemplo:\n",
    "M0X_E0X_STRINGS_vega_ricardo_102349285\n",
    "\n",
    "* X equivale al número de la tarea.\n",
    "\n",
    "En esta tarea, veremos los principios y pasos básicos para trabajar con análisis de texto, ya sea contando palabras, separándolas, borrando las no necesarias, o graficándolas. No son los únicos pasos u operaciones, pero algunos de los más simples y básicos:\n",
    "\n",
    "A- IMPORTAR LIBRERIAS  \n",
    "B– CARGAR DATOS DEL TEXTO  \n",
    "C- EXPLORAR DATOS   \n",
    "D- SEPARAR PALABRAS  \n",
    "E- REMOVER PALABRAS SIN INTERES   \n",
    "F- CONTAR FRECUENCIA PALABRAS   \n",
    "G- GRAFICAR RESULTADOS   \n"
   ]
  },
  {
   "cell_type": "markdown",
   "metadata": {},
   "source": [
    "## A- IMPORTAR LIBRERIAS\n",
    "\n",
    "Para trabajar con datos se usará la librería Pandas, con grandes capacidades para manipular. Permite leer fuentes como excel, csv, json, transformar estas estructuras de datos, hacer estadística básica, y guardar en diversos formatos, entre otras operaciones. \n",
    "Tambien usaremos la libreria MatPLotLib, muy usada para visualizar datos. Estapermite hacer gráficos de diverso tipo, es muy versátil pero algo compleja. \n"
   ]
  },
  {
   "cell_type": "code",
   "execution_count": 2,
   "metadata": {},
   "outputs": [],
   "source": [
    "# A- importar Pandas\n",
    "import pandas as pd\n",
    "\n",
    "# importar librería matplotlib.\n",
    "import matplotlib.pyplot as plt\n"
   ]
  },
  {
   "cell_type": "markdown",
   "metadata": {},
   "source": [
    "## B– CARGAR DATOS DEL TEXTO\n",
    "\n",
    "Para trabajar con datos de texto, usaremos los datos de una API, que es una fuente de datos disponible en la web. algunas cerradas, otras abiertas. Por ahora usaremos la API de C80, con los artículos de la constitución chilena de 1980. \n",
    "\n",
    "Primero, visitar esta url, permite acceder a la API que ofrece artículos de la constitución del 1980. Desde allí obtendremos el texto para trabajar. \n",
    "\n",
    "<code>https://c80.cl/wp-json/constitucion1980/v1/articulo/21\n",
    "</code>\n",
    "    \n",
    "Para guardar los datos en su computador, pueden hacerlo así:   \n",
    "– Ir a la dirección de arriba (copiar y pegar en el nagvegador)  \n",
    "– Si ven un boton guardar, apretarlo. \n",
    "– Si no hay botón guardar, hacer botón derecho y \"Guardar como\", o \"Guardar página como\"  \n",
    "– Guardar en una carpeta donde lo encuentren facilmente.   \n",
    "– Deberán tener una archivo de datos como este 21.json  \n",
    "– Lo abren con TextEdit (Mac) o NotePad (Windows)\n",
    "NUNCA abrir un archivo de datos con Word u otro editor de texto.    \n",
    "– Copian el texto y lo pegan enlas celdas de más abajo donde se indica.   \n"
   ]
  },
  {
   "cell_type": "code",
   "execution_count": 22,
   "metadata": {},
   "outputs": [
    {
     "data": {
      "text/plain": [
       "{'title': 'Artículo 18',\n",
       " 'contenido': ['Habrá un sistema electoral público. Una ley orgánica constitucional determinará su organización y funcionamiento, regulará la forma en que se realizarán los procesos electorales y plebiscitarios, en todo lo no previsto por esta Constitución y garantizará siempre la plena igualdad entre los independientes y los miembros de partidos políticos tanto en la presentación de candidaturas como en su participación en los señalados procesos. Dicha ley establecerá también un sistema de financiamiento, transparencia, límite y control del gasto electoral.',\n",
       "  'Una ley orgánica constitucional contemplará, además, un sistema de registro electoral, bajo la dirección del Servicio Electoral, al que se incorporarán, por el solo ministerio de la ley, quienes cumplan los requisitos establecidos por esta Constitución.',\n",
       "  'El resguardo del orden público durante los actos electorales y plebiscitarios corresponderá a las Fuerzas Armadas y Carabineros del modo que indique la ley.']}"
      ]
     },
     "execution_count": 22,
     "metadata": {},
     "output_type": "execute_result"
    }
   ],
   "source": [
    "# Para el ejemplo, usaremos el articulo 18\n",
    "# ejemplo de como debe quedar \n",
    "articulo18 = {\"title\":\"Art\\u00edculo 18\",\"contenido\":[\"Habr\\u00e1 un sistema electoral p\\u00fablico. Una ley org\\u00e1nica constitucional determinar\\u00e1 su organizaci\\u00f3n y funcionamiento, regular\\u00e1 la forma en que se realizar\\u00e1n los procesos electorales y plebiscitarios, en todo lo no previsto por esta Constituci\\u00f3n y garantizar\\u00e1 siempre la plena igualdad entre los independientes y los miembros de partidos pol\\u00edticos tanto en la presentaci\\u00f3n de candidaturas como en su participaci\\u00f3n en los se\\u00f1alados procesos. Dicha ley establecer\\u00e1 tambi\\u00e9n un sistema de financiamiento, transparencia, l\\u00edmite y control del gasto electoral.\",\"Una ley org\\u00e1nica constitucional contemplar\\u00e1, adem\\u00e1s, un sistema de registro electoral, bajo la direcci\\u00f3n del Servicio Electoral, al que se incorporar\\u00e1n, por el solo ministerio de la ley, quienes cumplan los requisitos establecidos por esta Constituci\\u00f3n.\",\"El resguardo del orden p\\u00fablico durante los actos electorales y plebiscitarios corresponder\\u00e1 a las Fuerzas Armadas y Carabineros del modo que indique la ley.\"]}\n",
    "\n",
    "# mostrar\n",
    "articulo18\n"
   ]
  },
  {
   "cell_type": "code",
   "execution_count": 23,
   "metadata": {},
   "outputs": [],
   "source": [
    "# poner texto aca despues del =  y entre { } \n",
    "articulo21 = {  }\n"
   ]
  },
  {
   "cell_type": "code",
   "execution_count": 24,
   "metadata": {},
   "outputs": [
    {
     "data": {
      "text/html": [
       "<div>\n",
       "<style scoped>\n",
       "    .dataframe tbody tr th:only-of-type {\n",
       "        vertical-align: middle;\n",
       "    }\n",
       "\n",
       "    .dataframe tbody tr th {\n",
       "        vertical-align: top;\n",
       "    }\n",
       "\n",
       "    .dataframe thead th {\n",
       "        text-align: right;\n",
       "    }\n",
       "</style>\n",
       "<table border=\"1\" class=\"dataframe\">\n",
       "  <thead>\n",
       "    <tr style=\"text-align: right;\">\n",
       "      <th></th>\n",
       "      <th>title</th>\n",
       "      <th>contenido</th>\n",
       "    </tr>\n",
       "  </thead>\n",
       "  <tbody>\n",
       "    <tr>\n",
       "      <th>0</th>\n",
       "      <td>Artículo 18</td>\n",
       "      <td>Habrá un sistema electoral público. Una ley or...</td>\n",
       "    </tr>\n",
       "    <tr>\n",
       "      <th>1</th>\n",
       "      <td>Artículo 18</td>\n",
       "      <td>Una ley orgánica constitucional contemplará, a...</td>\n",
       "    </tr>\n",
       "    <tr>\n",
       "      <th>2</th>\n",
       "      <td>Artículo 18</td>\n",
       "      <td>El resguardo del orden público durante los act...</td>\n",
       "    </tr>\n",
       "  </tbody>\n",
       "</table>\n",
       "</div>"
      ],
      "text/plain": [
       "         title                                          contenido\n",
       "0  Artículo 18  Habrá un sistema electoral público. Una ley or...\n",
       "1  Artículo 18  Una ley orgánica constitucional contemplará, a...\n",
       "2  Artículo 18  El resguardo del orden público durante los act..."
      ]
     },
     "execution_count": 24,
     "metadata": {},
     "output_type": "execute_result"
    }
   ],
   "source": [
    "# Cargar los datos en un dataframe de Pandas. \n",
    "# DataFrame una estructura de Pandas para tener datos en la memoria y trabajar con ellos.\n",
    "\n",
    "df_art18 = pd.DataFrame( articulo18 )\n",
    "\n",
    "# mostrar datos. se muestran los 3 elementos que tiene. \n",
    "df_art18\n"
   ]
  },
  {
   "cell_type": "code",
   "execution_count": 25,
   "metadata": {},
   "outputs": [
    {
     "data": {
      "text/plain": [
       "'Artículo 18'"
      ]
     },
     "execution_count": 25,
     "metadata": {},
     "output_type": "execute_result"
    }
   ],
   "source": [
    "# Mostrar el contenido del título.\n",
    "# Accedemos nombrando algunos de sus elementos \n",
    "# acedemos a la columna 'title' posicion 0\n",
    "df_art18['title'].loc[0]\n"
   ]
  },
  {
   "cell_type": "code",
   "execution_count": 26,
   "metadata": {},
   "outputs": [
    {
     "data": {
      "text/plain": [
       "0    Habrá un sistema electoral público. Una ley or...\n",
       "1    Una ley orgánica constitucional contemplará, a...\n",
       "2    El resguardo del orden público durante los act...\n",
       "Name: contenido, dtype: object"
      ]
     },
     "execution_count": 26,
     "metadata": {},
     "output_type": "execute_result"
    }
   ],
   "source": [
    "# Para mostrar algo del contenido, accedamos a la columna 'contenido'\n",
    "# dentro de esto vemos que hay en la posición 0\n",
    "# veremos lista de elementos separados por coma: \n",
    "# ['elemento0', 'elemento1','etc']\n",
    "\n",
    "df_art18['contenido']\n",
    "\n",
    "\n",
    "# para acceder a un elemento del contenido\n",
    "#df_art18['contenido'][0] # pueden descomentar esta linea\n",
    "\n",
    "# para ver cantidad de elementos en esa columna\n",
    "#len(df_art18['contenido']) \n"
   ]
  },
  {
   "cell_type": "code",
   "execution_count": 42,
   "metadata": {},
   "outputs": [
    {
     "name": "stdout",
     "output_type": "stream",
     "text": [
      "El elemento: 0 \n",
      " Habrá un sistema electoral público. Una ley orgánica constitucional determinará su organización y funcionamiento, regulará la forma en que se realizarán los procesos electorales y plebiscitarios, en todo lo no previsto por esta Constitución y garantizará siempre la plena igualdad entre los independientes y los miembros de partidos políticos tanto en la presentación de candidaturas como en su participación en los señalados procesos. Dicha ley establecerá también un sistema de financiamiento, transparencia, límite y control del gasto electoral.\n",
      "El elemento: 1 \n",
      " Una ley orgánica constitucional contemplará, además, un sistema de registro electoral, bajo la dirección del Servicio Electoral, al que se incorporarán, por el solo ministerio de la ley, quienes cumplan los requisitos establecidos por esta Constitución.\n",
      "El elemento: 2 \n",
      " El resguardo del orden público durante los actos electorales y plebiscitarios corresponderá a las Fuerzas Armadas y Carabineros del modo que indique la ley.\n"
     ]
    }
   ],
   "source": [
    "# con este ciclo for, se recorren los 3 elementos que tiene.\n",
    "for i, t in df_art18.iterrows(): \n",
    "    print('El elemento:', i, '\\n', t.iloc[1]) \n",
    "    "
   ]
  },
  {
   "cell_type": "markdown",
   "metadata": {},
   "source": [
    "## C- EXPLORAR DATOS \n",
    "\n",
    "Una vez que se argan los datos, se puede comenzar a explorarlos para comprender sus caracteristicas. \n"
   ]
  },
  {
   "cell_type": "code",
   "execution_count": 28,
   "metadata": {},
   "outputs": [
    {
     "data": {
      "text/plain": [
       "(3, 2)"
      ]
     },
     "execution_count": 28,
     "metadata": {},
     "output_type": "execute_result"
    }
   ],
   "source": [
    "# cuántas filas y columnas en el dataframe.\n",
    "df_art18.shape\n"
   ]
  },
  {
   "cell_type": "code",
   "execution_count": 30,
   "metadata": {},
   "outputs": [
    {
     "data": {
      "text/html": [
       "<div>\n",
       "<style scoped>\n",
       "    .dataframe tbody tr th:only-of-type {\n",
       "        vertical-align: middle;\n",
       "    }\n",
       "\n",
       "    .dataframe tbody tr th {\n",
       "        vertical-align: top;\n",
       "    }\n",
       "\n",
       "    .dataframe thead th {\n",
       "        text-align: right;\n",
       "    }\n",
       "</style>\n",
       "<table border=\"1\" class=\"dataframe\">\n",
       "  <thead>\n",
       "    <tr style=\"text-align: right;\">\n",
       "      <th></th>\n",
       "      <th>title</th>\n",
       "      <th>contenido</th>\n",
       "    </tr>\n",
       "  </thead>\n",
       "  <tbody>\n",
       "    <tr>\n",
       "      <th>count</th>\n",
       "      <td>3</td>\n",
       "      <td>3</td>\n",
       "    </tr>\n",
       "    <tr>\n",
       "      <th>unique</th>\n",
       "      <td>1</td>\n",
       "      <td>3</td>\n",
       "    </tr>\n",
       "    <tr>\n",
       "      <th>top</th>\n",
       "      <td>Artículo 18</td>\n",
       "      <td>Habrá un sistema electoral público. Una ley or...</td>\n",
       "    </tr>\n",
       "    <tr>\n",
       "      <th>freq</th>\n",
       "      <td>3</td>\n",
       "      <td>1</td>\n",
       "    </tr>\n",
       "  </tbody>\n",
       "</table>\n",
       "</div>"
      ],
      "text/plain": [
       "              title                                          contenido\n",
       "count             3                                                  3\n",
       "unique            1                                                  3\n",
       "top     Artículo 18  Habrá un sistema electoral público. Una ley or...\n",
       "freq              3                                                  1"
      ]
     },
     "execution_count": 30,
     "metadata": {},
     "output_type": "execute_result"
    }
   ],
   "source": [
    "# descripciones estadísticas. como es texto veremos sólo las que tienen valores numericos \n",
    "df_art18.describe()\n"
   ]
  },
  {
   "cell_type": "code",
   "execution_count": 50,
   "metadata": {},
   "outputs": [
    {
     "data": {
      "text/plain": [
       "['Habrá un sistema electoral público. Una ley orgánica constitucional determinará su organización y funcionamiento, regulará la forma en que se realizarán los procesos electorales y plebiscitarios, en todo lo no previsto por esta Constitución y garantizará siempre la plena igualdad entre los independientes y los miembros de partidos políticos tanto en la presentación de candidaturas como en su participación en los señalados procesos. Dicha ley establecerá también un sistema de financiamiento, transparencia, límite y control del gasto electoral.',\n",
       " 'Una ley orgánica constitucional contemplará, además, un sistema de registro electoral, bajo la dirección del Servicio Electoral, al que se incorporarán, por el solo ministerio de la ley, quienes cumplan los requisitos establecidos por esta Constitución.',\n",
       " 'El resguardo del orden público durante los actos electorales y plebiscitarios corresponderá a las Fuerzas Armadas y Carabineros del modo que indique la ley.']"
      ]
     },
     "execution_count": 50,
     "metadata": {},
     "output_type": "execute_result"
    }
   ],
   "source": [
    "\n"
   ]
  },
  {
   "cell_type": "code",
   "execution_count": 61,
   "metadata": {},
   "outputs": [
    {
     "name": "stdout",
     "output_type": "stream",
     "text": [
      "['Habrá un sistema electoral público. Una ley orgánica constitucional determinará su organización y funcionamiento, regulará la forma en que se realizarán los procesos electorales y plebiscitarios, en todo lo no previsto por esta Constitución y garantizará siempre la plena igualdad entre los independientes y los miembros de partidos políticos tanto en la presentación de candidaturas como en su participación en los señalados procesos. Dicha ley establecerá también un sistema de financiamiento, transparencia, límite y control del gasto electoral.', 'Una ley orgánica constitucional contemplará, además, un sistema de registro electoral, bajo la dirección del Servicio Electoral, al que se incorporarán, por el solo ministerio de la ley, quienes cumplan los requisitos establecidos por esta Constitución.', 'El resguardo del orden público durante los actos electorales y plebiscitarios corresponderá a las Fuerzas Armadas y Carabineros del modo que indique la ley.']\n",
      "\n",
      "- Primer elemento: Habrá un sistema electoral público. Una ley orgánica constitucional determinará su organización y funcionamiento, regulará la forma en que se realizarán los procesos electorales y plebiscitarios, en todo lo no previsto por esta Constitución y garantizará siempre la plena igualdad entre los independientes y los miembros de partidos políticos tanto en la presentación de candidaturas como en su participación en los señalados procesos. Dicha ley establecerá también un sistema de financiamiento, transparencia, límite y control del gasto electoral.\n"
     ]
    }
   ],
   "source": [
    "# Crearemos una lista donde guardaremos los elementos de contenido del df_art18.\n",
    "dflimpio18 = [] # lista vacia\n",
    "\n",
    "\n",
    "# ciclo for para recorrer el df_art18 y guardar cada elemento (son 3) en dflimpio.\n",
    "for i, t in df_art18.iterrows(): \n",
    "    dflimpio18.append(  df_art18['contenido'].iloc[i]  )\n",
    "\n",
    "# mostrar dflimpio. \n",
    "print( dflimpio18 )\n",
    "print() # esto solo para poner un espacio vacio\n",
    "\n",
    "# mostrara el primero de 3 elementos\n",
    "# probar la siguiente linea descomentandola (sacar el #).   \n",
    "\n",
    "print(\"- Primer elemento:\", dflimpio18[0] )\n",
    "\n",
    "#type( dflimpio18 ) # es una lista\n",
    "#type( dflimpio18[0] ) # dentro tiene un string\n"
   ]
  },
  {
   "cell_type": "markdown",
   "metadata": {},
   "source": [
    "## D- SEPARAR PALABRAS \n",
    "\n",
    "Por lo general, antes de iniciar analisis de texto, se separan las palabras y se colocan todas juntas en una lista, lo que se conoce como bolsa de palabras ('bag og words'). \n"
   ]
  },
  {
   "cell_type": "code",
   "execution_count": 69,
   "metadata": {},
   "outputs": [
    {
     "name": "stdout",
     "output_type": "stream",
     "text": [
      "78\n"
     ]
    },
    {
     "data": {
      "text/plain": [
       "['Habrá',\n",
       " 'un',\n",
       " 'sistema',\n",
       " 'electoral',\n",
       " 'público.',\n",
       " 'Una',\n",
       " 'ley',\n",
       " 'orgánica',\n",
       " 'constitucional',\n",
       " 'determinará',\n",
       " 'su',\n",
       " 'organización',\n",
       " 'y',\n",
       " 'funcionamiento,',\n",
       " 'regulará',\n",
       " 'la',\n",
       " 'forma',\n",
       " 'en',\n",
       " 'que',\n",
       " 'se',\n",
       " 'realizarán',\n",
       " 'los',\n",
       " 'procesos',\n",
       " 'electorales',\n",
       " 'y',\n",
       " 'plebiscitarios,',\n",
       " 'en',\n",
       " 'todo',\n",
       " 'lo',\n",
       " 'no',\n",
       " 'previsto',\n",
       " 'por',\n",
       " 'esta',\n",
       " 'Constitución',\n",
       " 'y',\n",
       " 'garantizará',\n",
       " 'siempre',\n",
       " 'la',\n",
       " 'plena',\n",
       " 'igualdad',\n",
       " 'entre',\n",
       " 'los',\n",
       " 'independientes',\n",
       " 'y',\n",
       " 'los',\n",
       " 'miembros',\n",
       " 'de',\n",
       " 'partidos',\n",
       " 'políticos',\n",
       " 'tanto',\n",
       " 'en',\n",
       " 'la',\n",
       " 'presentación',\n",
       " 'de',\n",
       " 'candidaturas',\n",
       " 'como',\n",
       " 'en',\n",
       " 'su',\n",
       " 'participación',\n",
       " 'en',\n",
       " 'los',\n",
       " 'señalados',\n",
       " 'procesos.',\n",
       " 'Dicha',\n",
       " 'ley',\n",
       " 'establecerá',\n",
       " 'también',\n",
       " 'un',\n",
       " 'sistema',\n",
       " 'de',\n",
       " 'financiamiento,',\n",
       " 'transparencia,',\n",
       " 'límite',\n",
       " 'y',\n",
       " 'control',\n",
       " 'del',\n",
       " 'gasto',\n",
       " 'electoral.']"
      ]
     },
     "execution_count": 69,
     "metadata": {},
     "output_type": "execute_result"
    }
   ],
   "source": [
    "# separaremos el parrafo 0 en sus palabras.  \n",
    "# split separa por un caracter, en este caso por ' ' (espacio).\n",
    "parrafo_separados18 = dflimpio18[0].split(' ') # separar al encontrar ' ' \n",
    "\n",
    "# ahora tenemos una lista nueva de palabras separadas.\n",
    "print( len(parrafo_separados18) ) # cuantas palabras hay en dicha lista \n",
    "parrafo_separados18\n"
   ]
  },
  {
   "cell_type": "markdown",
   "metadata": {},
   "source": [
    "## E- REMOVER PALABRAS SIN INTERES \n",
    "\n",
    "Muchas veces hay palabras que no aportan ucho significado a nuestro analisis, asi que se deben remover estas palabras sin interés semántico, ya que no aportan información para este análisis (en otros casos pueden ser importantes). \n"
   ]
  },
  {
   "cell_type": "code",
   "execution_count": 71,
   "metadata": {},
   "outputs": [
    {
     "name": "stdout",
     "output_type": "stream",
     "text": [
      "64\n"
     ]
    },
    {
     "data": {
      "text/plain": [
       "['Habrá',\n",
       " 'un',\n",
       " 'sistema',\n",
       " 'electoral',\n",
       " 'público.',\n",
       " 'Una',\n",
       " 'ley',\n",
       " 'orgánica',\n",
       " 'constitucional',\n",
       " 'determinará',\n",
       " 'su',\n",
       " 'organización',\n",
       " 'funcionamiento,',\n",
       " 'regulará',\n",
       " 'la',\n",
       " 'forma',\n",
       " 'que',\n",
       " 'se',\n",
       " 'realizarán',\n",
       " 'los',\n",
       " 'procesos',\n",
       " 'electorales',\n",
       " 'plebiscitarios,',\n",
       " 'todo',\n",
       " 'no',\n",
       " 'previsto',\n",
       " 'Constitución',\n",
       " 'garantizará',\n",
       " 'siempre',\n",
       " 'la',\n",
       " 'plena',\n",
       " 'igualdad',\n",
       " 'entre',\n",
       " 'los',\n",
       " 'independientes',\n",
       " 'los',\n",
       " 'miembros',\n",
       " 'de',\n",
       " 'partidos',\n",
       " 'políticos',\n",
       " 'tanto',\n",
       " 'la',\n",
       " 'presentación',\n",
       " 'de',\n",
       " 'candidaturas',\n",
       " 'como',\n",
       " 'su',\n",
       " 'participación',\n",
       " 'los',\n",
       " 'señalados',\n",
       " 'procesos.',\n",
       " 'Dicha',\n",
       " 'ley',\n",
       " 'establecerá',\n",
       " 'también',\n",
       " 'un',\n",
       " 'sistema',\n",
       " 'de',\n",
       " 'financiamiento,',\n",
       " 'transparencia,',\n",
       " 'límite',\n",
       " 'control',\n",
       " 'gasto',\n",
       " 'electoral.']"
      ]
     },
     "execution_count": 71,
     "metadata": {},
     "output_type": "execute_result"
    }
   ],
   "source": [
    "# remover palabras vacías.\n",
    "# usaremos una funcion para remover palabras.\n",
    "def quitar_palabras( lista_palabras, sacar):\n",
    "    return [w for w in lista_palabras if w not in sacar]\n",
    "\n",
    "\n",
    "# Por lo generla se debe tener una lista de palabras que nos interesa eliminar. \n",
    "# qué otras palabras agregaría a la lista para quitar?. \n",
    "palabras_sacar = ['a','con','del','el','en','esta','lo','las','para','por','si','y','o'] \n",
    "\n",
    "# ahora removeremos y guardaremos en lista_limpia.\n",
    "palabras_limpia18 = quitar_palabras( parrafo_separados18, palabras_sacar) \n",
    "\n",
    "# mostrar lista_limpia.\n",
    "print( len(palabras_limpia18) ) # cuantas palabras quedan en dicha lista sin las vacias? \n",
    "palabras_limpia18\n"
   ]
  },
  {
   "cell_type": "markdown",
   "metadata": {},
   "source": [
    "## F- CONTAR FRECUENCIA PALABRAS \n",
    "##### Con la bolsa de palabras limpia se pueden contar la frecuencia o cuantas veces aprarece una palabra."
   ]
  },
  {
   "cell_type": "code",
   "execution_count": 72,
   "metadata": {},
   "outputs": [
    {
     "data": {
      "text/plain": [
       "[1,\n",
       " 2,\n",
       " 2,\n",
       " 1,\n",
       " 1,\n",
       " 1,\n",
       " 2,\n",
       " 1,\n",
       " 1,\n",
       " 1,\n",
       " 2,\n",
       " 1,\n",
       " 1,\n",
       " 1,\n",
       " 3,\n",
       " 1,\n",
       " 1,\n",
       " 1,\n",
       " 1,\n",
       " 4,\n",
       " 1,\n",
       " 1,\n",
       " 1,\n",
       " 1,\n",
       " 1,\n",
       " 1,\n",
       " 1,\n",
       " 1,\n",
       " 1,\n",
       " 3,\n",
       " 1,\n",
       " 1,\n",
       " 1,\n",
       " 4,\n",
       " 1,\n",
       " 4,\n",
       " 1,\n",
       " 3,\n",
       " 1,\n",
       " 1,\n",
       " 1,\n",
       " 3,\n",
       " 1,\n",
       " 3,\n",
       " 1,\n",
       " 1,\n",
       " 2,\n",
       " 1,\n",
       " 4,\n",
       " 1,\n",
       " 1,\n",
       " 1,\n",
       " 2,\n",
       " 1,\n",
       " 1,\n",
       " 2,\n",
       " 2,\n",
       " 3,\n",
       " 1,\n",
       " 1,\n",
       " 1,\n",
       " 1,\n",
       " 1,\n",
       " 1]"
      ]
     },
     "execution_count": 72,
     "metadata": {},
     "output_type": "execute_result"
    }
   ],
   "source": [
    "# contar frecuencia de palabras.\n",
    "# usaremos una función para contar palabras.\n",
    "def contar_palabras( lista_palabras ):\n",
    "    frec_palabras = [lista_palabras.count(p) for p in lista_palabras]\n",
    "    return list( frec_palabras )\n",
    "\n",
    "# mostrar diccionario creado con frecuencia de palabras. \n",
    "palabras_frecuencia18 = contar_palabras( palabras_limpia18 ) \n",
    "palabras_frecuencia18\n"
   ]
  },
  {
   "cell_type": "markdown",
   "metadata": {},
   "source": [
    "## G- GRAFICAR RESULTADOS \n",
    "##### Si bien no es una limpieza exhaustiva, podemos graficar los resultados que tenemos hasta ahora. "
   ]
  },
  {
   "cell_type": "code",
   "execution_count": 73,
   "metadata": {},
   "outputs": [
    {
     "name": "stdout",
     "output_type": "stream",
     "text": [
      "['Habrá', 'un', 'sistema', 'electoral', 'público.', 'Una', 'ley', 'orgánica', 'constitucional', 'determinará', 'su', 'organización', 'funcionamiento,', 'regulará', 'la', 'forma', 'que', 'se', 'realizarán', 'los', 'procesos', 'electorales', 'plebiscitarios,', 'todo', 'no', 'previsto', 'Constitución', 'garantizará', 'siempre', 'la', 'plena', 'igualdad', 'entre', 'los', 'independientes', 'los', 'miembros', 'de', 'partidos', 'políticos', 'tanto', 'la', 'presentación', 'de', 'candidaturas', 'como', 'su', 'participación', 'los', 'señalados', 'procesos.', 'Dicha', 'ley', 'establecerá', 'también', 'un', 'sistema', 'de', 'financiamiento,', 'transparencia,', 'límite', 'control', 'gasto', 'electoral.'] \n",
      "\n",
      " [1, 2, 2, 1, 1, 1, 2, 1, 1, 1, 2, 1, 1, 1, 3, 1, 1, 1, 1, 4, 1, 1, 1, 1, 1, 1, 1, 1, 1, 3, 1, 1, 1, 4, 1, 4, 1, 3, 1, 1, 1, 3, 1, 3, 1, 1, 2, 1, 4, 1, 1, 1, 2, 1, 1, 2, 2, 3, 1, 1, 1, 1, 1, 1]\n"
     ]
    }
   ],
   "source": [
    "# para este caso usaremos dos listas separadas, p y f: \n",
    "# una con palabras limpias y otra con sus frecuencias.\n",
    "print(palabras_limpia18,'\\n\\n', palabras_frecuencia18)\n"
   ]
  },
  {
   "cell_type": "code",
   "execution_count": 74,
   "metadata": {},
   "outputs": [
    {
     "data": {
      "image/png": "[encoded data removed]",
      "text/plain": [
       "<Figure size 1200x1000 with 1 Axes>"
      ]
     },
     "metadata": {},
     "output_type": "display_data"
    }
   ],
   "source": [
    "# para este caso usaremos dos listas separadas, p y f\n",
    "p18 = palabras_limpia18\n",
    "f18 = palabras_frecuencia18\n",
    "\n",
    "fig=plt.figure(figsize=(12, 10)) # tamaño del gráfico.\n",
    "plt.title(\"Frecuencia de palabras en el texto\") # título. \n",
    "plt.xlabel(\"Frecuencia\") # texto eje X. \n",
    "plt.ylabel(\"Palabras\") # texto eje Y.\n",
    "\n",
    "plt.barh(p18, f18, align='center') # dibujar el gráfico.\n",
    "\n",
    "# mostrar el gráfico. \n",
    "plt.show() \n"
   ]
  },
  {
   "cell_type": "markdown",
   "metadata": {},
   "source": [
    "## - - - - - - - - Ahora Usted! - - - - - - - - - - - - - "
   ]
  },
  {
   "cell_type": "markdown",
   "metadata": {},
   "source": [
    "## REPLICAR PROCESO\n",
    "\n",
    "Replique todos los siguientes pasos del A al G, pero con otros datos. \n",
    "A- IMPORTAR LIBRERIAS  \n",
    "B– CARGAR DATOS DEL TEXTO  \n",
    "C- EXPLORAR DATOS   \n",
    "D- SEPARAR PALABRAS  \n",
    "E- REMOVER PALABRAS SIN INTERES   \n",
    "F- CONTAR FRECUENCIA PALABRAS   \n",
    "G- GRAFICAR RESULTADOS   \n",
    "\n",
    "Puede copiar y pegar cada elemento de cada celda, pero recuerde que sus nuevas variable deben tener el numero del artículo que le corresponde, así:\n",
    "\n",
    "Variable donde dice:\n",
    "articulo18 \n",
    "\n",
    "Colocar en XX su numero de articulo como el ejemplo:  \n",
    "articulo31 \n",
    "\n",
    "Según su último número de RUT es el la url de datos que le correponden. Todos son dierente y con diferente cantidad de elementos, pero en general son cortos. \n",
    "\n",
    "0 - Artículos 20 - https://c80.cl/wp-json/constitucion1980/v1/articulo/20  \n",
    "1 - Artículos 21 - https://c80.cl/wp-json/constitucion1980/v1/articulo/21  \n",
    "2 - Artículos 22 - https://c80.cl/wp-json/constitucion1980/v1/articulo/22  \n",
    "3 - Artículos 23 - https://c80.cl/wp-json/constitucion1980/v1/articulo/23  \n",
    "4 - Artículos 24 - https://c80.cl/wp-json/constitucion1980/v1/articulo/24  \n",
    "5 - Artículos 25 - https://c80.cl/wp-json/constitucion1980/v1/articulo/25  \n",
    "6 - Artículos 26 - https://c80.cl/wp-json/constitucion1980/v1/articulo/26  \n",
    "7 - Artículos 27 - https://c80.cl/wp-json/constitucion1980/v1/articulo/27  \n",
    "8 - Artículos 28 - https://c80.cl/wp-json/constitucion1980/v1/articulo/28  \n",
    "9 - Artículos 29 - https://c80.cl/wp-json/constitucion1980/v1/articulo/29  \n",
    "\n"
   ]
  },
  {
   "cell_type": "markdown",
   "metadata": {},
   "source": [
    "## 2A- IMPORTAR LIBRERIAS  \n",
    "¿Cuáles serian las librerias a importar?"
   ]
  },
  {
   "cell_type": "code",
   "execution_count": 77,
   "metadata": {},
   "outputs": [],
   "source": [
    "## Su respuestas desde acá... \n"
   ]
  },
  {
   "cell_type": "markdown",
   "metadata": {},
   "source": [
    "## 2B– CARGAR DATOS DEL TEXTO\n"
   ]
  },
  {
   "cell_type": "code",
   "execution_count": 75,
   "metadata": {},
   "outputs": [],
   "source": [
    "## Su respuestas desde acá... \n"
   ]
  },
  {
   "cell_type": "markdown",
   "metadata": {},
   "source": [
    "## 2C- EXPLORAR DATOS \n"
   ]
  },
  {
   "cell_type": "code",
   "execution_count": 78,
   "metadata": {},
   "outputs": [],
   "source": [
    "## Su respuestas desde acá... \n"
   ]
  },
  {
   "cell_type": "markdown",
   "metadata": {},
   "source": [
    "## 2D- SEPARAR PALABRAS\n"
   ]
  },
  {
   "cell_type": "code",
   "execution_count": 79,
   "metadata": {},
   "outputs": [],
   "source": [
    "## Su respuestas desde acá... \n"
   ]
  },
  {
   "cell_type": "markdown",
   "metadata": {},
   "source": [
    "## 2E- REMOVER PALABRAS SIN INTERES \n"
   ]
  },
  {
   "cell_type": "code",
   "execution_count": 80,
   "metadata": {},
   "outputs": [],
   "source": [
    "## Su respuestas desde acá... \n"
   ]
  },
  {
   "cell_type": "markdown",
   "metadata": {},
   "source": [
    "## 2F- CONTAR FRECUECIA PALABRAS \n"
   ]
  },
  {
   "cell_type": "code",
   "execution_count": 83,
   "metadata": {},
   "outputs": [],
   "source": [
    "## Su respuestas desde acá... \n"
   ]
  },
  {
   "cell_type": "markdown",
   "metadata": {},
   "source": [
    "## 2G- GRAFICAR RESULTADOS \n"
   ]
  },
  {
   "cell_type": "code",
   "execution_count": 84,
   "metadata": {},
   "outputs": [],
   "source": [
    "## Su respuestas desde acá... \n"
   ]
  },
  {
   "cell_type": "code",
   "execution_count": null,
   "metadata": {},
   "outputs": [],
   "source": []
  }
 ],
 "metadata": {
  "kernelspec": {
   "display_name": "Python 3 (ipykernel)",
   "language": "python",
   "name": "python3"
  },
  "language_info": {
   "codemirror_mode": {
    "name": "ipython",
    "version": 3
   },
   "file_extension": ".py",
   "mimetype": "text/x-python",
   "name": "python",
   "nbconvert_exporter": "python",
   "pygments_lexer": "ipython3",
   "version": "3.9.13"
  }
 },
 "nbformat": 4,
 "nbformat_minor": 4
}
