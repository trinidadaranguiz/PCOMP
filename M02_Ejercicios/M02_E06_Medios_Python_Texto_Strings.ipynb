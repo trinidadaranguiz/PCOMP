{
 "cells": [
  {
   "cell_type": "markdown",
   "metadata": {
    "id": "59I_QPWI12ES"
   },
   "source": [
    "# M02_E06_Medios_Python_Texto_Strings \n",
    "\n",
    "### PENSAMIENTO COMPUTACIONAL 2024-B\n",
    "\n",
    "* Prof. Ricardo Vega M. - Escuela de Diseño Universidad Católica de Chile - 2024.  \n",
    "\n",
    "* Renombrar archivo así: E0X_apellido_nombre_rut, por ejemplo:\n",
    "M0X_E0X_vega_ricardo_102349285  \n",
    "\n",
    "* Renombrar el titulo asi: M0X_E0X_PRINT_SUMAR_apellido_nombre_rut, por ejemplo:\n",
    "M0X_E0X_STRINGS_vega_ricardo_102349285\n",
    "\n",
    "* X equivale al número de la tarea.\n",
    "\n",
    "En la tarea de esta semana, veremos alguinas estrategias de programación para trabajar con texto (strings), ya sea para seleccionarlo, cortarlo, pegarlo, cambiarlo, etc:\n",
    "\n",
    "* A- Strings: ¿Qué son los strings?\n",
    "* B- Strings: Slicing de Texto. \n",
    "* C- Strings: Metodos de string. \n"
   ]
  },
  {
   "cell_type": "markdown",
   "metadata": {
    "id": "cjZPFf7H12ET"
   },
   "source": [
    "## A- Strings: ¿Qué son?\n",
    "\n",
    "El computador guarda valores de manera diferente. Para esto existen diferentes \"tipos\" de datos, con diferentes características. Algunos tipos de datos son:  \n",
    "\n",
    "```  \n",
    "int # son números enteros como 1, 55, 34, etc.  \n",
    "float # son números que tienen punto decimal (\"flotante\"), como 3.4, 12.5, etc.   \n",
    "boolean # tienen valor True o False, 1 o 0.\n",
    "string # para guardar cadenas de caracteres alfanuméricos \n",
    "```  \n",
    "Entonces, los tipos de datos strings son caracteres alfanuméricos como letras, números, un otros símbolos. En el fondo los string nos permite guardar texto.   \n",
    "\n",
    "Es importante considerar que al escribir números, no es lo mismo escribirlos como valores numéricos que como string, por ejemplo: \n",
    "\n",
    "```  \n",
    "5 es un número entero, permite operaciones aritméticas.   \n",
    "\"5\" es un string pues tiene comillas, NO permite operaciones aritméticas. Es solo un texto.  \n",
    "```      "
   ]
  },
  {
   "cell_type": "code",
   "execution_count": 1,
   "metadata": {},
   "outputs": [
    {
     "name": "stdout",
     "output_type": "stream",
     "text": [
      "<class 'int'>\n",
      "<class 'str'>\n",
      "<class 'float'>\n"
     ]
    }
   ],
   "source": [
    "# A veces es necesario saber el tipo de dato tenemos, \n",
    "# podemos usar la función type() \n",
    "# muestra en la consola el tipo de dato. \n",
    "# Run esta línea para ver ejemplo\n",
    "\n",
    "es_string   = \"5\"\n",
    "es_entero   = 5\n",
    "es_flotante = 5.2\n",
    "\n",
    "print( type(es_entero) ) # es int, número entero\n",
    "print( type(es_string) ) # es str, un string, símbolo sin valor numérico \n",
    "print( type(es_flotante) ) # es float, número decimal con punto\n"
   ]
  },
  {
   "cell_type": "markdown",
   "metadata": {},
   "source": [
    "## B- Strings: Slicing de Texto. \n",
    "\n",
    "Cada texto que vemos como palabras unitarias, para el computador es una colección de caracteres. La palabra \"casa\" esta formada por los caracteres \"c\", \"a\", \"s\", \"a\". Cada caracter tiene una posición, o index, por lo que podemos acceder a sus elementos. Por ejemplo: \n"
   ]
  },
  {
   "cell_type": "code",
   "execution_count": 3,
   "metadata": {},
   "outputs": [
    {
     "name": "stdout",
     "output_type": "stream",
     "text": [
      "ñ\n"
     ]
    }
   ],
   "source": [
    "# Ejemplo B. posiciones de caracteres\n",
    "# con el index accedemos a cada letra, como en una lista.  \n",
    "txt = \"diseño\"  # palabra con 6 letras.  \n",
    "print( txt[4] ) # index 4, prueba c otro index\n",
    "# muestra letra de la posición seleccionada.\n"
   ]
  },
  {
   "cell_type": "markdown",
   "metadata": {},
   "source": [
    "## C– Strings: Metodos de string. \n",
    "\n",
    "Los strings guardan textos como letras y palabras, pero también frases, párrafos, y textos mucho más largos. Con string se pueden hacer muchas otra cosas, para esto existen los métodos de string. \n",
    "\n",
    "**Qué son los métodos:**\n",
    "\n",
    "En programación, un método es una funcion que permite hacer ciertas cosas al aplicarse a algún dato. Los métodos son \"maneras\" o \"procedimientos\" para hacer cosas. \n",
    "\n",
    "Recordar que los caracteres también son un tipo de dato. Los métodos de string nos permiten hacer diversas operaciones, como invertir, buscar letras, obtener posiciones, convertir en altas o bajas, contar palabras, juntar frases, entre otras. \n",
    "\n",
    "Para acceder a los métodos se usa la notación de punto, con esta estructura:\n",
    "\n",
    "string.funcion()\n",
    "\n",
    "Puedes ver más sobre métodos de string: \n",
    "\n",
    "https://www.w3schools.com/python/python_strings_methods.asp    \n"
   ]
  },
  {
   "cell_type": "code",
   "execution_count": 10,
   "metadata": {},
   "outputs": [
    {
     "name": "stdout",
     "output_type": "stream",
     "text": [
      "0- original:  Esta Frase, de Juan, es muy Buena     \n",
      "1- Upper: ESTA FRASE, DE JUAN, ES MUY BUENA     \n",
      "2- Lower: esta frase, de juan, es muy buena     \n",
      "3- strip: Esta Frase, de Juan, es muy Buena\n",
      "4a- replace: Esta Frase, de Juan, es muy vuena     \n",
      "4b- replace: Esta Frase, de Juan, es muy Fome     \n",
      "4c- replace: Esta Frase, de Bart, es muy Buena     \n",
      "5- find: 5\n",
      "6a- split: ['Esta Frase', ' de Juan', ' es muy Buena     ']\n",
      "6b- tipo: <class 'list'>\n",
      "6c- largo: 3\n",
      "6d- Una de las partes:  es muy Buena     \n",
      "Aldo#Paula#Gato\n",
      "Aldo Paula Gato\n"
     ]
    }
   ],
   "source": [
    "# Ejemplos C. Metodos de strings / String methods\n",
    "# A continuación ejemplos de métodos para que vea las posibilidades.\n",
    "# Usaremos una frase original a la cual se realizarán operaciones. \n",
    "# al final de esta celda los resultados \n",
    "\n",
    "## 0- Frase original a usar \n",
    "frase = \"Esta Frase, de Juan, es muy Buena     \"\n",
    "print(\"0- original: \", frase ) # aca le hacemos solo un print\n",
    "\n",
    "\n",
    "## 1- .upper() convierte texto a altas. \n",
    "up = frase.upper() # guardar en up el metodo upper aplicado a frase\n",
    "print(\"1- Upper:\", up ) # mostrar\n",
    "\n",
    "\n",
    "## 2- .lower() convierte texto a altas. \n",
    "low = frase.lower() # guardar en low el metodo aplicado a frase\n",
    "print(\"2- Lower:\", low ) \n",
    "\n",
    "\n",
    "## 3- .strip() devuelve version sin espacios al final. \n",
    "st = frase.strip()\n",
    "print(\"3- strip:\",st) # devuelve la frase limpia sin espacio al final \n",
    "\n",
    "\n",
    "## 4- .replace() reemplaza una cadena de caracteres por otra. \n",
    "## Tiene 2 parametros: lo buscado, y lo nuevo. \n",
    "rp_a = frase.replace(\"B\", \"v\")\n",
    "print(\"4a- replace:\", rp_a) # devuelve la frase cambiada\n",
    "\n",
    "rp_b = frase.replace(\"Buena\", \"Fome\")\n",
    "print(\"4b- replace:\", rp_b) # devuelve la frase cambiada\n",
    "\n",
    "rp_c = frase.replace(\"Juan\", \"Bart\")\n",
    "print(\"4c- replace:\", rp_c) # devuelve la frase cambiada\n",
    "\n",
    "\n",
    "## 5– .find() busca la palabra y devuelve su index o posición donde empieza. \n",
    "fd = frase.find(\"Frase\")\n",
    "print(\"5- find:\", fd) # devuelve la posicion\n",
    "\n",
    "\n",
    "## 6- .split() divide frase en partes segun un token \n",
    "## (token: simbolo usado para hacer la divicion )\n",
    "## Devuelve una lista de tipo string, a la que se puede acceder. \n",
    "sp = frase.split(\",\") # token sera la coma \",\". Probar con una letra\n",
    "print(\"6a- split:\", sp)  \n",
    "print(\"6b- tipo:\", type(sp) )  \n",
    "print(\"6c- largo:\", len(sp)) # en cuantas partes se dividio la frase \n",
    "print(\"6d- Una de las partes:\", sp[2] ) # en cuantas partes se dividio la frase \n",
    "\n",
    "\n",
    "## 7- join() permite juntar palabras o frases separadas en una sola. \n",
    "nombres = (\"Aldo\", \"Paula\", \"Gato\")\n",
    "juntos_a = \"#\".join( nombres ) # junta usando #\n",
    "print(juntos_a)\n",
    "juntos_b = \" \".join( nombres ) # junta usando espacio\n",
    "print(juntos_b)\n",
    "\n"
   ]
  },
  {
   "cell_type": "markdown",
   "metadata": {},
   "source": [
    "## Ahora Usted: \n",
    "\n",
    "Recordar que puede crear las celdas que necesite. \n"
   ]
  },
  {
   "cell_type": "markdown",
   "metadata": {},
   "source": [
    "### 1- Transformar de forma string a entero (1 punto). \n",
    "\n",
    "**Descripción**  \n",
    "\n",
    "Se solicita tomar los 5 primeros números de su rut, y luego sumarlos. Usaremos funciones de casting int() para transformar valores string a int. Para colocar texto usaremos Formated Strings. \n",
    "\n",
    "**Casting? ¿Qué es eso!!!**   \n",
    "Se llama casting a la operacion de transformar de un tipo de dato a otro, por ejemplo, de string a número, o un número a string. Para esto el valor se \"envuelve\" en una función que devuelve el valor transformado, por ejemplo: \n",
    "\n",
    "```  \n",
    "int(\"5\") # transforma la \"letra\" 5 en el número 5.\n",
    "str( 5 ) # transforma el número 5, en la \"letra\" 5.  \n",
    "```   \n",
    "\n",
    "**Formated String**   \n",
    "\n",
    "Se usa para dar formato a las cadenas de texto en un print. Se usan {} como placeholder para que ingresen las variables que se colocan ordenadas en .format(v1, v2, ...)\n"
   ]
  },
  {
   "cell_type": "code",
   "execution_count": 12,
   "metadata": {},
   "outputs": [
    {
     "name": "stdout",
     "output_type": "stream",
     "text": [
      "Primero el 5, luego el 3. Y estos suman 8\n"
     ]
    }
   ],
   "source": [
    "# Ejemplo 1- Transformar entero a string, y string a entero. \n",
    "# Ejemplo solo con 2 números, debe hacer lo mismo pero con los 5 primeros de su RUT.  \n",
    "\n",
    "na = int(\"5\") # el numero es string, la funcion int() lo transforma a entero\n",
    "nb = int(\"3\") \n",
    "nsuma = na + nb\n",
    "\n",
    "total = 'Primero el {}, luego el {}. Y estos suman {}'.format(na, nb, nsuma)\n",
    "print(total)\n"
   ]
  },
  {
   "cell_type": "code",
   "execution_count": 3,
   "metadata": {},
   "outputs": [],
   "source": [
    "## Su respuesta desde aca.  "
   ]
  },
  {
   "cell_type": "code",
   "execution_count": null,
   "metadata": {},
   "outputs": [],
   "source": []
  },
  {
   "cell_type": "markdown",
   "metadata": {},
   "source": [
    "### 2- Strings: Seleccionar desde listas (1 punto])  \n",
    "\n",
    "**Descripcion**  \n",
    "De las siguientes listas de países y animales, seleccionar la palabra que le corresponde según su último número del RUT. Este número será el index para seleccionar las palabras. \n",
    "Es decir, si mi carnet es 10.234.921-2, la que me corresponde es paises[2] y animales[2] . \n",
    "Luego debe guardarlos en variables e imprimirlos en la consola. \n",
    "\n",
    "Estas dos variables servirán para el ejercicio siguiente. "
   ]
  },
  {
   "cell_type": "code",
   "execution_count": 14,
   "metadata": {},
   "outputs": [
    {
     "name": "stdout",
     "output_type": "stream",
     "text": [
      "Claudio Piscina\n"
     ]
    }
   ],
   "source": [
    "# Ejemplo 2- Strings: Seleccionar desde listas  \n",
    "\n",
    "# En este caso, mi index sera 1\n",
    "nomb = [\"Juan\",\"Claudio\",\"Carlos\"]  \n",
    "cosa = [\"Casa\", \"Piscina\", \"Avión\"]  \n",
    "\n",
    "unnomb   = nomb[1] # selecciona lo que hay en index 1\n",
    "unacosa  = cosa[1] # selecciona lo que hay en index 1\n",
    "\n",
    "print( unnombre, unacosa  ) # esta selección muestra Claudio Piscina \n"
   ]
  },
  {
   "cell_type": "code",
   "execution_count": 24,
   "metadata": {},
   "outputs": [
    {
     "name": "stdout",
     "output_type": "stream",
     "text": [
      "Francia Corvina\n"
     ]
    }
   ],
   "source": [
    "# Su respuesta desde aca.  \n",
    "\n",
    "# Lista de paises: \n",
    "paises   = [ \"Ecuador\", \"Eritrea\", \"España\", \"Francia\", \"Líbano\", \n",
    "            \"Malasia\", \"Noruega\", \" Polonia\", \"Senegal\" ]\n",
    "\n",
    "# Lista de animales: \n",
    "animales = [\"Alpaca\", \"Águila\", \"Caballa\", \"Corvina\", \"Gacela\", \n",
    "            \"Gorila\", \" Jabalí\", \"Jaguar\", \"Jirafa\", \" Medusa\", \"Paloma\" ]\n",
    "\n",
    "# Su respuesta desde aca.  \n",
    "unpais   = ?[ ? ] # selecciona desde lista paises\n",
    "unanimal = ?[ ? ] # selecciona desde lista animales\n",
    "\n",
    "\n",
    "# variables para mostrar pais y animal \n",
    "print( ?, ? ) \n"
   ]
  },
  {
   "cell_type": "markdown",
   "metadata": {},
   "source": [
    "### 3– Strings: Reconstruir palabra usando slicing (1 punto). \n",
    "\n",
    "**Descripción** \n",
    "\n",
    "Alguien desordenó las listas de animales y de países, entonces su trabajo es reordenarlas. Para esto, usando las palabras desordenadas, debe seleccionar el país y el animal que le corresponde, acceder a las sílabas o letras independientemente, guardarlas cada una en una variable, ordenarlas en otra variable, e imprimir la palabra en el orden correcto. Para esto debera usar la técnica de slicing mencioada anteriormente.  \n"
   ]
  },
  {
   "cell_type": "code",
   "execution_count": 17,
   "metadata": {},
   "outputs": [
    {
     "name": "stdout",
     "output_type": "stream",
     "text": [
      "agonista\n",
      "santiago\n"
     ]
    }
   ],
   "source": [
    "# Ejemplo 3– Strings: Reconstruir palabra usando slicing. \n",
    "# En este ejemplo se reconstruye la palabra \"santiago\" usando slicing. \n",
    "# de los nombres desordenados, se usara la posición 1, que tiene 8 letras\n",
    "# por tanto usare 8 variables \n",
    "\n",
    "ciudades    = [\"trama\",\"agonista\",\"colinas\"] # lista\n",
    "desordenado = ciudades[1]  # seleciconar nombre y guardar en variable \n",
    "print( desordenado )     # siempre es bueno hacer un print\n",
    "\n",
    "\n",
    "# desde desordenado, se toman las letras ordenadamente \n",
    "# variables para cada letra\n",
    "l1 = desordenado[5]\n",
    "l2 = desordenado[0]\n",
    "l3 = desordenado[3]\n",
    "l4 = desordenado[6]\n",
    "l5 = desordenado[4]\n",
    "l6 = desordenado[7]\n",
    "l7 = desordenado[1]\n",
    "l8 = desordenado[2]\n",
    "\n",
    "# en esta lista concatenamos las variables \n",
    "ordenado = l1+l2+l3+l4+l5+l6+l7+l8\n",
    "\n",
    "print(ordenado)\n"
   ]
  },
  {
   "cell_type": "code",
   "execution_count": 26,
   "metadata": {},
   "outputs": [],
   "source": [
    "# Ahora usted\n",
    "# Los paises son: Argelia, Croacia, Ecuador, Eritrea, España, Francia, Líbano, Malasia, Noruega, Polonia, Senegal. \n",
    "# Los animales son: Alpaca, Águila, Caballa, Corvina, Gacela, Gorila, Jabalí, Jaguar, Jirafa, Medusa, Paloma. \n",
    "\n",
    "## Lista de animales desordenada donde buscar: \n",
    "paises   = [\"alegria\", \"arcaico\", \"acuerdo\", \"reitera\", \"apañes\", \n",
    "          \"afincar\", \"albino\", \"amilasa\", \"noguera\", \"opalino\" ]\n",
    "\n",
    "## Lista de paises desordenada donde buscar: \n",
    "animales = [\"aplaca\", \"iguala\", \"callab\", \"invocar\", \"acelga\", \n",
    "            \"gloria\", \"lijaba\", \"jugara\", \"fijara\", \"usadme\", \"aploma\"]\n",
    "\n",
    "\n",
    "# Su respuesta aca. \n",
    "# segun su palabra, es cuantas cuantas variables va a necesitar.  \n",
    "\n"
   ]
  },
  {
   "cell_type": "markdown",
   "metadata": {},
   "source": [
    "### 4- String Methods. Limpiando texto (1 punto). \n",
    "\n",
    "**Descripción**  \n",
    "\n",
    "Del parrafo dado sobre Harry Potter, debe reemplazar al menos 5 palabras. Puede ser su nombre, edad, cuidad, gustos, etc. Tambien borre las palabras que comienzan y terminan con X. \n"
   ]
  },
  {
   "cell_type": "code",
   "execution_count": 24,
   "metadata": {},
   "outputs": [
    {
     "name": "stdout",
     "output_type": "stream",
     "text": [
      "\n",
      "Hola Pedro, estas viviendo en Talca?\n",
      "\n"
     ]
    }
   ],
   "source": [
    "# Ejemplo 4– String Methods. Limpiando texto.\n",
    "\n",
    "texto = \"\"\"\n",
    "Hola Godzilla, estas naranja en xmoscasx?\n",
    "\"\"\" \n",
    "\n",
    "new1 = \"Pedro\"\n",
    "new2 = \"viviendo\"\n",
    "new3 = \"Talca\"\n",
    "\n",
    "# en la variable texto se puede guardar la misma variable \n",
    "# pero modificada con los metodos aplicados.\n",
    "texto = texto.replace(\"Godzilla\", new1).replace(\"naranja\", new2).replace(\"xmoscasx\", new3)\n",
    "\n",
    "print( texto )\n"
   ]
  },
  {
   "cell_type": "code",
   "execution_count": 25,
   "metadata": {},
   "outputs": [
    {
     "name": "stdout",
     "output_type": "stream",
     "text": [
      "\n",
      "Harry había sido siempre pequeño y muy flaco para su edad. \n",
      "Incluso parecía más pequeño y enjuto de lo que xguaguax realmente era, \n",
      "porque toda la xmonox ropa que usaba eran prendas viejas de Dudley, \n",
      "y su primo era cuatro veces más grande que él. \n",
      "Tenía un rostro delgado xyoyox, rodillas huesudas, pelo negro y ojos verdes brillantes.\n",
      "\n"
     ]
    }
   ],
   "source": [
    "# Su respuesta aca. \n",
    "\n",
    "parrafo = \"\"\"\n",
    "Harry había sido siempre pequeño y muy flaco para su edad. \n",
    "Incluso parecía más pequeño y enjuto de lo que xguaguax realmente era, \n",
    "porque toda la xmonox ropa que usaba eran prendas viejas de Dudley, \n",
    "y su primo era cuatro veces más grande que él. \n",
    "Tenía un rostro delgado xyoyox, rodillas huesudas, pelo negro y ojos verdes brillantes.\n",
    "\"\"\" \n",
    "\n",
    "# en la variable parrafo se puede guardar la misma variable pero modificada.\n",
    "parrafo = parrafo.replace(?, ?).replace(?, ?) # agregar los replace que necesite\n",
    "\n",
    "\n",
    "print( parrafo )\n"
   ]
  },
  {
   "cell_type": "markdown",
   "metadata": {},
   "source": [
    "### 5- String Methods: juntando texto (1 punto).\n",
    "\n",
    "**Descripción**  \n",
    "\n",
    "De la lista, seleccionar usando el slicing de listas (con los indices), solo los nombres y guardarlos en la lista solo_nombres.\n",
    "\n",
    "Luego seleccionar solo los objetos y guardarlos en lista solo_objetos. Luego seleccionar solo los animales y guardarlos en la lista solo_animales. \n",
    "\n",
    "Finalmente, print a cada lista. \n"
   ]
  },
  {
   "cell_type": "code",
   "execution_count": 28,
   "metadata": {},
   "outputs": [
    {
     "name": "stdout",
     "output_type": "stream",
     "text": [
      "['verde', 'azul', 'amarillo']\n",
      "['verde', 'azul', 'amarillo']\n",
      "['verde', 'azul', 'amarillo']\n"
     ]
    }
   ],
   "source": [
    "# 5- String Methods: juntando texto. \n",
    "# casos comunes\n",
    "# a[inicio:final] # elemento 'inicio' hasta 'final'-1\n",
    "# a[inicio:]      # elemento 'inicio' hasta el final \n",
    "# a[:final]       # primer elemento hasta elemento 'final'-1\n",
    "# a[:]            # todos los elementos \n",
    "\n",
    "\n",
    "# acceder a valores de una lista e imprimir solo nombres de personas\n",
    "lista_ejemplo = [\"arder\", \"verde\", \"saltar\", \"azul\", \"amarillo\", \"correr\"]\n",
    "solo_colores  = [ lista_ejemplo[1], lista_ejemplo[3], lista_ejemplo[4] ]\n",
    "\n",
    "print(solo_colores)\n"
   ]
  },
  {
   "cell_type": "code",
   "execution_count": 9,
   "metadata": {},
   "outputs": [
    {
     "data": {
      "text/plain": [
       "['Ana', 'Benito']"
      ]
     },
     "execution_count": 9,
     "metadata": {},
     "output_type": "execute_result"
    }
   ],
   "source": [
    "# Su respuesta aca. \n",
    "# acceder a valores de unalista e imprimir solo nombres de personas\n",
    "\n",
    "lista1 = [\"Ana\", \"uvas\", \"Benito\", \"camión\", \"avion\", \"gato\", \"Carlos\", \"Diego\", \"humo\", \"Edith\"]\n",
    "\n",
    "# listas...\n",
    "solo_nombres = [ lista1[0], lista1[2], ? ... ]\n",
    "solo_objetos = [ ? .... ]\n",
    "solo_animales = [ ? .... ]\n",
    "\n",
    "# mostrar\n",
    "print( solo_nombres )\n",
    "?\n",
    "?"
   ]
  },
  {
   "cell_type": "markdown",
   "metadata": {},
   "source": [
    "### 6– String: Dar vuelta palabras (1 punto). \n",
    "\n",
    "**Descripción**  \n",
    "\n",
    "Un palíndromo es una palabra que se escribe desde el final. Desde la lista pais_capital, seleccionar el elemento según su numero de rut y completar el codigo faltante. \n"
   ]
  },
  {
   "cell_type": "code",
   "execution_count": 31,
   "metadata": {},
   "outputs": [
    {
     "name": "stdout",
     "output_type": "stream",
     "text": [
      "electroencefalograma\n"
     ]
    }
   ],
   "source": [
    "# Ejemplo 6-  palabras al reves\n",
    "\n",
    "palabra = \"amargolafecneortcele\"\n",
    "palind  = \"\"\n",
    "\n",
    "\n",
    "## ciclo para recorrer la palabra\n",
    "for c in palabra: \n",
    "    palind = c + palind # coloca cada letra en la variable\n",
    "\n",
    "print(palind) \n"
   ]
  },
  {
   "cell_type": "code",
   "execution_count": 40,
   "metadata": {},
   "outputs": [
    {
     "name": "stdout",
     "output_type": "stream",
     "text": [
      "Venezuela-Caracas\n"
     ]
    }
   ],
   "source": [
    "# ¿Qué valores tiene que agregar en el coodigo de abajo\n",
    "# para mostrar el pais seleccionado de manera correcta?\n",
    "\n",
    "pais_capital = ['arrebmaC–ailartsuA','ksniM-aisurroleiB','enorobaG-anaustoB','iknisleH-aidnalniF',\n",
    "                 'atrakaY-aisenodnI','kivaikieR-aidnalsI','tohckauN-ainatiruaM','rikilaP-aisenorciM',\n",
    "                 'dabamalsI-nátsikaP','nóicnusA-yaugaraP','tneksaT-nátsikebzU','sacaraC-aleuzeneV']\n",
    "\n",
    "\n",
    "# Su respuesta aca.\n",
    "mirut = 11  # cambiar segu su numero de rut. \n",
    "ok    = \"\"  # variable vacia. donde se guardaran las letras \n",
    "\n",
    "# ciclo\n",
    "for p in pais_capital[ ? ]: \n",
    "    ok =  ? + ?\n",
    "\n",
    "\n",
    "print(correcto )\n"
   ]
  }
 ],
 "metadata": {
  "colab": {
   "provenance": []
  },
  "kernelspec": {
   "display_name": "Python 3 (ipykernel)",
   "language": "python",
   "name": "python3"
  },
  "language_info": {
   "codemirror_mode": {
    "name": "ipython",
    "version": 3
   },
   "file_extension": ".py",
   "mimetype": "text/x-python",
   "name": "python",
   "nbconvert_exporter": "python",
   "pygments_lexer": "ipython3",
   "version": "3.9.13"
  }
 },
 "nbformat": 4,
 "nbformat_minor": 4
}
