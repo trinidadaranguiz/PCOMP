{
 "cells": [
  {
   "cell_type": "markdown",
   "metadata": {
    "id": "59I_QPWI12ES"
   },
   "source": [
    "# M01_E02_PRINT_SUMAR\n",
    "\n",
    "### PENSAMIENTO COMPUTACIONAL \n",
    "\n",
    "* Prof. Ricardo Vega M. - Escuela de Diseño Universidad Católica de Chile.   \n",
    "\n",
    "* Renombrar archivo así: M01_E02_apellido_nombre_rut, por ejemplo:\n",
    "M01_E02_PRINT_SUMAR_vega_ricardo_102349285\n",
    "\n",
    "* Renombrar el titulo asi: M01_E02_PRINT_SUMAR_apellido_nombre_rut, por ejemplo:\n",
    "M01_E02_PRINT_SUMAR_vega_ricardo_102349285"
   ]
  },
  {
   "cell_type": "markdown",
   "metadata": {
    "id": "cjZPFf7H12ET"
   },
   "source": [
    "En la tarea de esta semana, veremos dos cosas principales:\n",
    "\n",
    "* 1- Uso de la función print()\n",
    "* 2- Sumar y concatenar valores.   \n"
   ]
  },
  {
   "cell_type": "markdown",
   "metadata": {
    "id": "GlO56Xj512EU"
   },
   "source": [
    "## A– Print Nombre o Apellido.  \n",
    "\n",
    "**Sobre la funcion print()**  \n",
    "\n",
    "La funcion print() sirve para mostrar valores en la consola que aparece bajo de cada celdita. Sirve para comprobar si los valores que tenemos son lo que esperamos. Para esto se pone dentro de los paréntesis el valor de la variable a mostrar, algo así:\n",
    "\n",
    "a = 2  # la variable a con valor 2  \n",
    "print( a )  # mostrara el valor de a\n"
   ]
  },
  {
   "cell_type": "code",
   "execution_count": 1,
   "metadata": {
    "id": "xsVKyFCN12EU",
    "outputId": "d179d9bc-30e7-4d9e-8621-74ee8d1b6560"
   },
   "outputs": [
    {
     "name": "stdout",
     "output_type": "stream",
     "text": [
      "*   * *****  **** *****\n",
      "*   * *     *     *   *\n",
      "*   * ***** *  ** *****\n",
      " * *  *     *   * *   *\n",
      "  *   *****  ***  *   *\n"
     ]
    }
   ],
   "source": [
    "## 1- Ejemplo\n",
    "## Ejemplo 1A\n",
    "## Variables con las formas de cada letra.\n",
    "a = \"*   * *****  **** *****\"\n",
    "b = \"*   * *     *     *   *\"\n",
    "c = \"*   * ***** *  ** *****\"\n",
    "d = \" * *  *     *   * *   *\"\n",
    "e = \"  *   *****  ***  *   *\"\n",
    "\n",
    "## Ejemplo 1B\n",
    "## Uso de función print() para mostrar en consola...\n",
    "print( a )\n",
    "print( b )\n",
    "print( c )\n",
    "print( d )\n",
    "print( e )\n"
   ]
  },
  {
   "cell_type": "markdown",
   "metadata": {
    "id": "xu55AIGT12EZ"
   },
   "source": [
    "## B– Sumatoria.  \n",
    "\n",
    "**Sobre la sumatoria**  \n",
    "\n",
    "Una sumatoria es simplemente sumar valores de una lista, que puede ser corta o muy grande. Sumar 2 + 2 es fácil de anotar. Pero como anotar la suma de todos los números entre 1 y 10.000? Una locura. Para esto se usa la notación sigma ( ∑ letra griega en mayúscula ). Es una notación muy usada, entonces cuando les aparezca por ahí, ya sabrán de que se trata.\n",
    "\n",
    "\\begin{align}\n",
    "sumanumrut = \\sum_{i=0}^n\n",
    "\\end{align}\n",
    "\n",
    "No se asusten, es solo la notación matemática para describir lo que haremos. Se lee \"Sumar todos los valores de 0 a n, siendo n la cantidad de valores del conjunto\". Para esta tarea deberan haces sumas solamente, pero es importante conocerla pues en conputaicon a veces aparece en muchos lugares. Y ya que saben como es la sumatoria, averiguar como se simboliza la multiplicatoria ; )\n",
    "\n"
   ]
  },
  {
   "cell_type": "code",
   "execution_count": 3,
   "metadata": {
    "id": "mSk3xUTA12EZ",
    "outputId": "ac9f80ab-d56a-4708-d49b-df75797ad4d9"
   },
   "outputs": [
    {
     "name": "stdout",
     "output_type": "stream",
     "text": [
      "A- La suma es: 30\n"
     ]
    }
   ],
   "source": [
    "## Ejemplo 2A\n",
    "## Variables para fuiguardar cada numero del rut\n",
    "r01 = 1\n",
    "r02 = 0\n",
    "r03 = 2\n",
    "r04 = 3\n",
    "r05 = 5\n",
    "r06 = 0\n",
    "r07 = 2\n",
    "r08 = 8\n",
    "r09 = 9\n",
    "\n",
    "tot_a = r01 + r02 + r03 + r04 + r05 + r06 + r07 + r08 + r09 # suma de los valores\n",
    "print( \"A- La suma es:\", tot_a )\n"
   ]
  },
  {
   "cell_type": "code",
   "execution_count": 4,
   "metadata": {
    "id": "AkRE4rqC12EZ",
    "outputId": "7663f81f-d7a7-47aa-b8e6-42df3d1d31ff"
   },
   "outputs": [
    {
     "name": "stdout",
     "output_type": "stream",
     "text": [
      "B- La suma es: 30\n"
     ]
    }
   ],
   "source": [
    "## Ejemplo 2B\n",
    "rut = [1, 0, 2, 3, 5, 0, 2, 8, 9] # lista con todos los valores\n",
    "tot_b = 0 # variable acumuladora empieza en cero\n",
    "\n",
    "for i in range( len( rut ) ):\n",
    "    tot_b = tot_b + rut[i]\n",
    "\n",
    "print( \"B- La suma es:\", tot_b )"
   ]
  },
  {
   "cell_type": "markdown",
   "metadata": {},
   "source": [
    "## C– Concatenar. \n",
    "\n",
    "Los elementos se pueden agrupar, sumando o concatenando:\n",
    "\n",
    "**Suma:** es simplemente otener el resultado de la adición de cifras numérica (u otra operación aritmética que queramos), cierto? las letras como string no pueden sumarse (a menos que las usemos como variables), pues son tipos de datos diferentes, por ejemplo:  \n",
    "\n",
    "suma = 2 + 5 # se puede oues todos son números!\n",
    " \n",
    "frase = \"hola\" + 3 # no se puede pues son de diferente tipo! \n",
    " \n",
    "**Concatenar:** nos permite juntar varios textos y/o números para armar frases para mostrar, sin hacer operaciones aritméticas de manera directa. Esta frase tampoco va a funcionar...\n",
    "\n",
    "frase = \"hola\" + 3 # no se puede pues son de diferente tipo! \n",
    "print( frase )\n",
    "\n",
    "Entonces debemos convertir el valor numérico en un string, usando la función str()\n",
    "\n",
    "frase = \"hola\" + str(3)  \n",
    "print( frase )\n"
   ]
  },
  {
   "cell_type": "markdown",
   "metadata": {},
   "source": [
    "## Ahora Usted: \n",
    "\n",
    "Recordar que debe crear las celdas correspondientes. \n"
   ]
  },
  {
   "cell_type": "markdown",
   "metadata": {
    "id": "EuYqe6Hz12EV"
   },
   "source": [
    "## Parte A de la tarea: Variables y Print. \n",
    "\n",
    "En esta tarea deberá mostrar su nombre o apellido usando un símbolo para dibujar cada parte de las letras (&, %, $, #, \", *, X, etc, son tipo string). En cada línea debera dibujar los elementos del cada letra. Puede realizarlo directamente en el print o usando variables. Esto le ayudará a familiarizarse en el uso la funcion print concatenando valores simples. \n"
   ]
  },
  {
   "cell_type": "markdown",
   "metadata": {},
   "source": [
    "## A1- Crear variables para texto (1 punto).\n",
    "\n",
    "Primero hacer las variables para almacenar los elementos que componen cada línea del texto de su nombre o apellido."
   ]
  },
  {
   "cell_type": "code",
   "execution_count": 7,
   "metadata": {
    "id": "DTe9hWYl12EV"
   },
   "outputs": [],
   "source": [
    "## Su respúesta desde aca."
   ]
  },
  {
   "cell_type": "code",
   "execution_count": null,
   "metadata": {
    "id": "iHUnNFGU12EW"
   },
   "outputs": [],
   "source": []
  },
  {
   "cell_type": "markdown",
   "metadata": {
    "id": "DiJaNqUm12EY"
   },
   "source": [
    "## A2- Print para mostrar texto (1 punto).  \n",
    "\n",
    "Luego debe usar print para armar las palabras de su nombre o apellido y hacer los prints. Puede usar los ejemplos de mas arriba.  "
   ]
  },
  {
   "cell_type": "code",
   "execution_count": 8,
   "metadata": {
    "id": "QHoXGFQV12EY"
   },
   "outputs": [],
   "source": [
    "## Su respuesta desde acá."
   ]
  },
  {
   "cell_type": "code",
   "execution_count": null,
   "metadata": {
    "id": "TuHo8IGy12EZ"
   },
   "outputs": [],
   "source": []
  },
  {
   "cell_type": "markdown",
   "metadata": {},
   "source": [
    "## Parte B de la tarea: Sumar números del carnet.\n",
    "Usando sus números de carnet, sumar todos los números. "
   ]
  },
  {
   "cell_type": "markdown",
   "metadata": {
    "id": "OfBZmw4V12Ea"
   },
   "source": [
    "## 1B- Sumar desde lista (1 punto).\n",
    "\n",
    "Para esto deberá primero (2A) crear una variable por cada numero, y luego en sumarlos en una variable para el total, e imprimirlo en pantalla con un print.  \n"
   ]
  },
  {
   "cell_type": "code",
   "execution_count": null,
   "metadata": {
    "id": "UA9196DD12Ea"
   },
   "outputs": [],
   "source": [
    "## Su respuesta desde acá. Usar ejemplo 2A"
   ]
  },
  {
   "cell_type": "code",
   "execution_count": null,
   "metadata": {
    "id": "e07iR5XF12Ea"
   },
   "outputs": [],
   "source": []
  },
  {
   "cell_type": "markdown",
   "metadata": {
    "id": "7Tb_75Rv12Ea"
   },
   "source": [
    "## 2B- Sumar desde lista (1 punto).\n",
    "\n",
    "Luego (2B), hacer lo mismo (sumar números de carnet) pero colocando los valores en un array. Para sumarlos crear una variable donde se va acumulando la suma. La suma se debe hacer con un ciclo for. Luego en primera por pantalla el resultado"
   ]
  },
  {
   "cell_type": "code",
   "execution_count": null,
   "metadata": {
    "id": "vOingWmO12Ea"
   },
   "outputs": [],
   "source": [
    "## Su respuesta desde acá. Usar ejemplo 2B"
   ]
  },
  {
   "cell_type": "code",
   "execution_count": null,
   "metadata": {
    "id": "fY3sqYQ112Ea"
   },
   "outputs": [],
   "source": []
  },
  {
   "cell_type": "markdown",
   "metadata": {},
   "source": [
    "## Parte C de la tarea: Concatenar una frase (2 puntos). \n",
    "\n",
    "En los \"?\", escribir los valores correspondientes para que la frase se ejecute correctamente. Según sus cambios, debe aparecer algo asi:\n",
    "\n",
    "Me llamo Juan, últimos número de rut son 45, me gusta el diseño interactivo\n"
   ]
  },
  {
   "cell_type": "code",
   "execution_count": 26,
   "metadata": {},
   "outputs": [],
   "source": [
    "## Su respuesta desde acá. Usar ejemplo "
   ]
  },
  {
   "cell_type": "code",
   "execution_count": 28,
   "metadata": {},
   "outputs": [
    {
     "name": "stdout",
     "output_type": "stream",
     "text": [
      "Me llamo Juan, mi ultimo numeros de rut es 0, me gusta el diseño interactivo\n"
     ]
    }
   ],
   "source": [
    "nom  = \"Juan\" # reemplace \"Juan\" por su nombre.  \n",
    "rut  = 0  # reemplace \"45\" por su ultimo numero de rut.  \n",
    "pref = [ \"gráfico\", \"animación\", \"interactivo\", \"textil\", \"vestuario\", \"música\", \"otro\" ]\n",
    "\n",
    "frase = \"Me llamo \" + ? + \", último número de rut \" + ?(?) + \", me gusta el diseño \" + pref[?]\n",
    "print( ? )\n"
   ]
  },
  {
   "cell_type": "code",
   "execution_count": null,
   "metadata": {},
   "outputs": [],
   "source": []
  }
 ],
 "metadata": {
  "colab": {
   "provenance": []
  },
  "kernelspec": {
   "display_name": "Python 3 (ipykernel)",
   "language": "python",
   "name": "python3"
  },
  "language_info": {
   "codemirror_mode": {
    "name": "ipython",
    "version": 3
   },
   "file_extension": ".py",
   "mimetype": "text/x-python",
   "name": "python",
   "nbconvert_exporter": "python",
   "pygments_lexer": "ipython3",
   "version": "3.9.13"
  }
 },
 "nbformat": 4,
 "nbformat_minor": 1
}
