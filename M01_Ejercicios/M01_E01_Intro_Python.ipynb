{
 "cells": [
  {
   "cell_type": "markdown",
   "metadata": {},
   "source": [
    "# M01_E01_Intro_Python\n",
    "\n",
    "### PENSAMIENTO COMPUTACIONAL \n",
    "\n",
    "* Prof. Ricardo Vega M. - Escuela de Diseño Universidad Católica de Chile.  \n",
    "\n",
    "* Renombrar archivo así: E02_apellido_nombre_rut, por ejemplo:\n",
    "M01_E02_PRINT_SUMAR_vega_ricardo_102349285\n",
    "\n",
    "* Renombrar el titulo asi: M01_E02_PRINT_SUMAR_apellido_nombre_rut, por ejemplo:\n",
    "M01_E02_PRINT_SUMAR_vega_ricardo_102349285\n"
   ]
  },
  {
   "cell_type": "markdown",
   "metadata": {},
   "source": [
    "**¿Qué es Python?**.  \n",
    "\n",
    "Python es un lenguaje de programación de código abierto, es multiplataforma y de alto nivel.  \n",
    "Es gratuito y de código abierto, por lo que se puede usar y distribuir sin restricciones.   \n",
    "Es fácil de aprender y tiene una sintaxis sencilla.   \n",
    "Maneja la memoria automáticamente, y se ejecuta línea por línea facilitando la depuración de errores.  \n",
    "\n",
    "**¿En que cosas se usa Python?**.  \n",
    "Se utiliza para crear programas en diversas áreas: Desarrollo de aplicaciones web; Desarrollo de software; Ciencia de datos; Machine learning; Automatización de tareas; Análisis de datos; Aprendizaje automático; Visualización de datos; Uso de APIs, etc.   \n",
    "\n",
    "****¿Quién creó Python?**.  \n",
    "Python fue creado en 1991 por Guido van Rossum, con una filosofía hace hincapié en la legibilidad de su código. Un dato curioso es que el hermano de Guido, Just van Rosum, es un diseñador especializado en tipografía.  \n"
   ]
  },
  {
   "cell_type": "markdown",
   "metadata": {},
   "source": [
    "**¿Como fuinciona Python?**.  \n",
    "\n",
    "Los lenguajes de programación como Python, tienen una serie de funciones, o \"palabras\" clave que se usan para programar. \n",
    "\n",
    "También tiene ciertas estructuras que permiten controlar el flujo del programa. Las principales que veremos ahora son estas:   \n",
    "– Variables    \n",
    "– Decisiones, if, else, elif   \n",
    "– Ciclos   \n",
    "– Listas o Arrays   \n",
    "– Recorrer listas  \n",
    "\n"
   ]
  },
  {
   "cell_type": "markdown",
   "metadata": {},
   "source": [
    "## A– Variables   \n",
    "\n",
    "Se puede pensar en las variables como una cajita con un nombre en donde se guardan valores que se pueden usar después. \n"
   ]
  },
  {
   "cell_type": "code",
   "execution_count": 5,
   "metadata": {},
   "outputs": [
    {
     "name": "stdout",
     "output_type": "stream",
     "text": [
      "4\n"
     ]
    }
   ],
   "source": [
    "a = 4\n",
    "t = '5'\n",
    "print( a )\n",
    "#print( type(t) )\n"
   ]
  },
  {
   "cell_type": "code",
   "execution_count": 8,
   "metadata": {},
   "outputs": [
    {
     "name": "stdout",
     "output_type": "stream",
     "text": [
      "9\n"
     ]
    }
   ],
   "source": [
    "## Se pueden hacer operaciones aritméticas.\n",
    "a = 5\n",
    "b = 4\n",
    "c = a + b\n",
    "print( c )\n"
   ]
  },
  {
   "cell_type": "code",
   "execution_count": 9,
   "metadata": {},
   "outputs": [
    {
     "name": "stdout",
     "output_type": "stream",
     "text": [
      "3.5\n"
     ]
    }
   ],
   "source": [
    "## Se pueden reescribir los valores de las variables\n",
    "a = 1\n",
    "c = 1.5\n",
    "c = 2.5\n",
    "print( a+c )\n"
   ]
  },
  {
   "cell_type": "code",
   "execution_count": 11,
   "metadata": {},
   "outputs": [
    {
     "name": "stdout",
     "output_type": "stream",
     "text": [
      "Hola Juan 2\n"
     ]
    }
   ],
   "source": [
    "## Se pueden guardar textos también!\n",
    "c = \"Hola\"\n",
    "n = 'Juan'\n",
    "x = 2\n",
    "print( c, n, x )\n"
   ]
  },
  {
   "cell_type": "markdown",
   "metadata": {},
   "source": [
    "## B– Decisiones, if, else, elif\n",
    "Es la manera en que el computador toma desiciones, preguntando si un valor es tal o cual.\n"
   ]
  },
  {
   "cell_type": "code",
   "execution_count": 13,
   "metadata": {},
   "outputs": [
    {
     "name": "stdout",
     "output_type": "stream",
     "text": [
      "a NO vale 5\n"
     ]
    }
   ],
   "source": [
    "## Probar cambiando el valor de a\n",
    "a = 3\n",
    "\n",
    "if a == 5:\n",
    "    print(\"a vale 5\")\n",
    "else:\n",
    "    print(\"a NO vale 5\")\n"
   ]
  },
  {
   "cell_type": "markdown",
   "metadata": {},
   "source": [
    "## C– Ciclos \n",
    "Permite repetir instrucciones según un límite. \n"
   ]
  },
  {
   "cell_type": "code",
   "execution_count": 1,
   "metadata": {},
   "outputs": [
    {
     "name": "stdout",
     "output_type": "stream",
     "text": [
      "i Vale:  0\n",
      "i Vale:  1\n",
      "i Vale:  2\n",
      "i Vale:  3\n",
      "i Vale:  4\n",
      "i Vale:  5\n"
     ]
    }
   ],
   "source": [
    "## Para cada elemento i, entre 0 y 6, se hace lo siguiente... \n",
    "for i in range( 6 ):\n",
    "    print( \"i Vale: \", i )\n",
    "    "
   ]
  },
  {
   "cell_type": "markdown",
   "metadata": {},
   "source": [
    "## D– Listas o Arrays \n",
    "Sirve para tener una lista de muchos valores guardados con un mismo nombre.\n"
   ]
  },
  {
   "cell_type": "code",
   "execution_count": 14,
   "metadata": {},
   "outputs": [
    {
     "name": "stdout",
     "output_type": "stream",
     "text": [
      "Elvira\n"
     ]
    }
   ],
   "source": [
    "## En este caso son textos que van entre comillas. \n",
    "nombres = ['Ana','Beatriz','Claudia','Diana','Elvira','Fernanda','Gabriela']\n",
    "print( nombres[ 4 ] ) ## cambiar valor entre los paréntesis cuadrados para acceder a otro nombre de la lista \n"
   ]
  },
  {
   "cell_type": "markdown",
   "metadata": {},
   "source": [
    "## E– Recorrer listas\n",
    "Se puede recorrer una lista con un ciclo."
   ]
  },
  {
   "cell_type": "code",
   "execution_count": 6,
   "metadata": {},
   "outputs": [
    {
     "name": "stdout",
     "output_type": "stream",
     "text": [
      "0 Ana\n",
      "1 Beatriz\n",
      "2 Claudia\n",
      "3 Diana\n",
      "4 Elvira\n",
      "5 Fernanda\n",
      "6 Gabriela\n"
     ]
    }
   ],
   "source": [
    "## Toma cada elemento n de la lista nombres  \n",
    "for n in range( len(nombres) ): ## len(nombres) indica la cantidad de elementos de la lista nombres  \n",
    "    print( n, nombres[ n ] )\n",
    "    "
   ]
  },
  {
   "cell_type": "code",
   "execution_count": 7,
   "metadata": {},
   "outputs": [
    {
     "name": "stdout",
     "output_type": "stream",
     "text": [
      "Ana\n",
      "Beatriz\n",
      "Claudia\n",
      "Diana\n",
      "Elvira\n",
      "Fernanda\n",
      "Gabriela\n"
     ]
    }
   ],
   "source": [
    "## Toma cada elemento n de la lista nombres  \n",
    "for n in ( nombres ): ## len(nombres) indica la cantidad de elementos de la lista nombres  \n",
    "    print( n )\n",
    "    "
   ]
  },
  {
   "cell_type": "code",
   "execution_count": 9,
   "metadata": {},
   "outputs": [
    {
     "name": "stdout",
     "output_type": "stream",
     "text": [
      "23\n",
      "18\n",
      "54\n",
      "29\n",
      "43\n",
      "41\n",
      "33\n"
     ]
    }
   ],
   "source": [
    "## Podemos tener listas de números también!\n",
    "edades = [23,18,54,29,43,41,33]\n",
    "\n",
    "for e in range( len(edades) ): ## len(nombres) indica la cantidad de elementos de la lista nombres  \n",
    "    print( edades[ e ] )\n",
    "    "
   ]
  },
  {
   "cell_type": "markdown",
   "metadata": {},
   "source": [
    "## Ahora Usted: \n",
    "\n",
    "Recordar que debe crear las celdas correspondientes. \n"
   ]
  },
  {
   "cell_type": "markdown",
   "metadata": {},
   "source": [
    "## 1– Concatenar nombres (1 punto)\n",
    "\n",
    "Crear dos variables \"nomb\" y \"apell\", y guardar en ellos su nombre y apellido respectivamente. Luego concatenarlos e imprimirlos (usar print). Recordar que las palabras son strings. \n"
   ]
  },
  {
   "cell_type": "code",
   "execution_count": null,
   "metadata": {},
   "outputs": [],
   "source": [
    "## Su respuesta desde acá.\n"
   ]
  },
  {
   "cell_type": "markdown",
   "metadata": {},
   "source": [
    "## 2– Lista nombre amigos (1 punto)\n",
    "\n",
    "Hacer un array con 5 elementos, pueden ser nombres de sus amigos, cantantes, mascotas, lo que estime. Recorrerlo con un ciclo for mostrando con un print cada elemento (como en el ejemplo de más arriba).  \n"
   ]
  },
  {
   "cell_type": "code",
   "execution_count": null,
   "metadata": {},
   "outputs": [],
   "source": [
    "## Su respuesta desde acá.\n"
   ]
  },
  {
   "cell_type": "markdown",
   "metadata": {},
   "source": [
    "## 3–  Lista de edades  (1 punto)\n",
    "\n",
    "Hacer un array con edades ficticias de sus amigos, cantantes, mascotas, lo que estime. Recorrerlo con un ciclo for mostrando con un print cada elemento (como en el ejemplo de más arriba). \n"
   ]
  },
  {
   "cell_type": "code",
   "execution_count": null,
   "metadata": {},
   "outputs": [],
   "source": [
    "## Su respuesta desde acá.\n"
   ]
  },
  {
   "cell_type": "markdown",
   "metadata": {},
   "source": [
    "## 4– Sumar numeros del RUT (1 punto)\n",
    "\n",
    "Poner los números de su RUT en una lista, sumarlos en una nueva variable, y mostrar el resultado con el mensaje \"Mi rut suma:\" XX (donde XX es el resultado de la suma)\n",
    "\n",
    "Ayuda: puede usar este código (? indica que hay un valor a reemplazar)\n",
    "\n",
    "\n",
    "rut_num = [2, 4, completar c sus numeros...]\n",
    "\n",
    "suma = 0\n",
    "for i in range( len(rut_num) ):\n",
    "    suma = suma + rut_num[?]\n",
    "\n",
    "frase = \"Mi rut suma:\" \n",
    "print( frase, ? )\n",
    " "
   ]
  },
  {
   "cell_type": "code",
   "execution_count": 5,
   "metadata": {},
   "outputs": [],
   "source": [
    "## Su respuesta desde acá.\n"
   ]
  },
  {
   "cell_type": "markdown",
   "metadata": {},
   "source": [
    "## 5– Evaluar cantidad de animalitos con if (2 punto) \n",
    "\n",
    "Completar la estructura de desición con los valores que correpondan. El resultado al imprimir debe ser este: \n",
    "\n",
    "Hay más gatitos, son: 12\n",
    "El total de animalitos es: 36\n"
   ]
  },
  {
   "cell_type": "code",
   "execution_count": 11,
   "metadata": {},
   "outputs": [
    {
     "name": "stdout",
     "output_type": "stream",
     "text": [
      "Hay más gatitos, son: 12\n",
      "El total de animalitos es: 36\n"
     ]
    }
   ],
   "source": [
    "## Colocar en ? el dato que corresponda. \n",
    "\n",
    "gatitos  = ?\n",
    "perritos = 24\n",
    "\n",
    "if gatitos > perritos:\n",
    "    print(\"Hay más perritos, son:\", ? )\n",
    "else:\n",
    "    print(\"Hay más gatitos, son:\", ?)\n",
    "\n",
    "    \n",
    "# sumar cantidad de animalitos\n",
    "mensaje = \"El total de animalitos es:\"\n",
    "tot = ? + perritos \n",
    "\n",
    "print( ?, ? )\n",
    "    "
   ]
  },
  {
   "cell_type": "code",
   "execution_count": null,
   "metadata": {},
   "outputs": [],
   "source": []
  }
 ],
 "metadata": {
  "kernelspec": {
   "display_name": "Python 3 (ipykernel)",
   "language": "python",
   "name": "python3"
  },
  "language_info": {
   "codemirror_mode": {
    "name": "ipython",
    "version": 3
   },
   "file_extension": ".py",
   "mimetype": "text/x-python",
   "name": "python",
   "nbconvert_exporter": "python",
   "pygments_lexer": "ipython3",
   "version": "3.9.13"
  }
 },
 "nbformat": 4,
 "nbformat_minor": 2
}
